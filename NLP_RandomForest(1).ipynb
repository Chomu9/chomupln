{
 "cells": [
  {
   "cell_type": "code",
   "execution_count": 1,
   "metadata": {},
   "outputs": [
    {
     "name": "stderr",
     "output_type": "stream",
     "text": [
      "[nltk_data] Downloading package stopwords to\n",
      "[nltk_data]     C:\\Users\\RVCCF011\\AppData\\Roaming\\nltk_data...\n",
      "[nltk_data]   Package stopwords is already up-to-date!\n"
     ]
    },
    {
     "data": {
      "text/plain": [
       "True"
      ]
     },
     "execution_count": 1,
     "metadata": {},
     "output_type": "execute_result"
    }
   ],
   "source": [
    "import pandas as pd\n",
    "from gensim import corpora, models\n",
    "from nltk.tokenize import word_tokenize\n",
    "from nltk.corpus import stopwords\n",
    "from nltk.stem import WordNetLemmatizer\n",
    "\n",
    "# Load the data\n",
    "data = pd.read_csv('your_file.csv')\n",
    "\n",
    "# Preprocess the text\n",
    "stop_words = set(stopwords.words('english'))\n",
    "lemmatizer = WordNetLemmatizer()\n",
    "\n",
    "def preprocess_text(text):\n",
    "    tokens = word_tokenize(text.lower())\n",
    "    tokens = [lemmatizer.lemmatize(token) for token in tokens if token.isalpha()]\n",
    "    tokens = [token for token in tokens if token not in stop_words]\n",
    "    return tokens\n",
    "\n",
    "data['Processed_Text'] = data['Questions'].apply(preprocess_text)\n",
    "\n",
    "# Create a dictionary and a corpus\n",
    "dictionary = corpora.Dictionary(data['Processed_Text'])\n",
    "corpus = [dictionary.doc2bow(text) for text in data['Processed_Text']]\n",
    "\n",
    "# Train the LSI model\n",
    "lsi_model = models.LsiModel(corpus, id2word=dictionary, num_topics=4)\n",
    "\n",
    "# Extract topics\n",
    "topics = lsi_model.show_topics(num_topics=4, num_words=10)\n",
    "\n",
    "for topic_id, topic in topics:\n",
    "    print(f\"Topic {topic_id}: {topic}\")\n",
    "\n",
    "# Assign questions to clusters\n",
    "def get_topic(question):\n",
    "    bow = dictionary.doc2bow(preprocess_text(question))\n",
    "    topic_distribution = lsi_model[bow]\n",
    "    dominant_topic = max(topic_distribution, key=lambda x: x[1])[0]\n",
    "    return dominant_topic\n",
    "\n",
    "data['Cluster'] = data['Questions'].apply(get_topic)\n",
    "\n",
    "# Print the first few rows with the assigned cluster\n",
    "print(data[['Questions', 'Cluster']].head())\n"
   ]
  },
  {
   "cell_type": "code",
   "execution_count": 2,
   "metadata": {},
   "outputs": [],
   "source": [
    "df = pd.read_csv(\"spam.csv\",encoding=\"Windows-1252\")\n",
    "X = df['v2']\n",
    "y = df['v1'].apply(lambda x: 1 if x == \"ham\" else 0)"
   ]
  },
  {
   "cell_type": "code",
   "execution_count": 3,
   "metadata": {},
   "outputs": [],
   "source": [
    "X_train, X_test, y_train, y_test = train_test_split(X, y, test_size=0.3, random_state=42)\n",
    "\n",
    "stop_words = set(stopwords.words('english'))\n",
    "preprocess = lambda text: ' '.join([word.lower() for word in word_tokenize(text) if word.isalpha() and word.lower() not in stop_words])\n",
    "X_train = X_train.apply(preprocess)\n",
    "X_test = X_test.apply(preprocess)\n",
    "\n",
    "def calculate_tf(term, document):\n",
    "    words = document.split()\n",
    "    return words.count(term) / (len(words)+1)\n",
    "\n",
    "def calculate_idf(term, documents):\n",
    "    document_containing_term = sum(1 for document in documents if term in document.split())\n",
    "    return math.log(len(documents) / (document_containing_term + 1)) if document_containing_term > 0 else 0\n",
    "\n",
    "all_documents = X_train.tolist() + X_test.tolist()\n",
    "idf_values = {term: calculate_idf(term, all_documents) for term in set(' '.join(all_documents).split())}\n",
    "\n",
    "vocabulary = sorted(list(idf_values.keys()))\n",
    "\n",
    "X_train_tfidf_manual = []\n",
    "for document in X_train:\n",
    "    tfidf_vector = [calculate_tf(term, document) * idf_values[term] for term in vocabulary]\n",
    "    X_train_tfidf_manual.append(tfidf_vector)\n",
    "\n",
    "X_test_tfidf_manual = []\n",
    "for document in X_test:\n",
    "    tfidf_vector = [calculate_tf(term, document) * idf_values[term] for term in vocabulary]\n",
    "    X_test_tfidf_manual.append(tfidf_vector)\n",
    "\n",
    "X_train_tfidf_manual = np.array(X_train_tfidf_manual)\n",
    "X_test_tfidf_manual = np.array(X_test_tfidf_manual)"
   ]
  },
  {
   "cell_type": "code",
   "execution_count": 4,
   "metadata": {},
   "outputs": [
    {
     "name": "stdout",
     "output_type": "stream",
     "text": [
      "              precision    recall  f1-score   support\n",
      "\n",
      "           0       1.00      0.80      0.89       219\n",
      "           1       0.97      1.00      0.99      1453\n",
      "\n",
      "    accuracy                           0.97      1672\n",
      "   macro avg       0.99      0.90      0.94      1672\n",
      "weighted avg       0.98      0.97      0.97      1672\n",
      "\n"
     ]
    }
   ],
   "source": [
    "from sklearn.ensemble import RandomForestClassifier\n",
    "from sklearn.metrics import classification_report\n",
    "model = RandomForestClassifier()\n",
    "model.fit(X_train_tfidf_manual, y_train)\n",
    "y_pred = model.predict(X_test_tfidf_manual)\n",
    "print(classification_report(y_test, y_pred))"
   ]
  },
  {
   "cell_type": "code",
   "execution_count": 5,
   "metadata": {},
   "outputs": [
    {
     "name": "stdout",
     "output_type": "stream",
     "text": [
      "Predicted Sentiment: Not Spam\n"
     ]
    }
   ],
   "source": [
    "new_text = \"I HAVE A DATE ON SUNDAY WITH WILL!!\"\n",
    "new_text_tfidf_manual = [calculate_tf(term, preprocess(new_text)) * idf_values[term] for term in vocabulary]\n",
    "predicted_sentiment = model.predict([new_text_tfidf_manual])\n",
    "print(\"Predicted Sentiment:\", \"Not Spam\" if predicted_sentiment[0] == 1 else \"Spam\")"
   ]
  },
  {
   "cell_type": "code",
   "execution_count": 6,
   "metadata": {},
   "outputs": [
    {
     "name": "stdout",
     "output_type": "stream",
     "text": [
      "Predicted Sentiment: Spam\n"
     ]
    }
   ],
   "source": [
    "new_text = \"URGENT! You have won a 1 week FREE membership in our �100,000 Prize Jackpot! Txt the word: CLAIM to No: 81010 T&C www.dbuk.net LCCLTD POBOX 4403LDNW1A7RW18\"\n",
    "\n",
    "new_text_tfidf_manual = [calculate_tf(term, preprocess(new_text)) * idf_values[term] for term in vocabulary]\n",
    "predicted_sentiment = model.predict([new_text_tfidf_manual])\n",
    "print(\"Predicted Sentiment:\", \"Not Spam\" if predicted_sentiment[0] == 1 else \"Spam\")"
   ]
  }
 ],
 "metadata": {
  "kernelspec": {
   "display_name": "Python 3 (ipykernel)",
   "language": "python",
   "name": "python3"
  },
  "language_info": {
   "codemirror_mode": {
    "name": "ipython",
    "version": 3
   },
   "file_extension": ".py",
   "mimetype": "text/x-python",
   "name": "python",
   "nbconvert_exporter": "python",
   "pygments_lexer": "ipython3",
   "version": "3.11.5"
  }
 },
 "nbformat": 4,
 "nbformat_minor": 2
}
